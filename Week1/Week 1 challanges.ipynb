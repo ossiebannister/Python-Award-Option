{
 "cells": [
  {
   "cell_type": "markdown",
   "id": "33bbf7b9",
   "metadata": {},
   "source": [
    "# My first python Notebook\n",
    "### Week 1 programming challenges"
   ]
  },
  {
   "cell_type": "code",
   "execution_count": 6,
   "id": "db142a40",
   "metadata": {},
   "outputs": [],
   "source": [
    "def greet(user):\n",
    "    '''Greet the names user'''\n",
    "    print(f'Hello {user} nice to meet you.')\n"
   ]
  },
  {
   "cell_type": "code",
   "execution_count": 7,
   "id": "394c4141",
   "metadata": {},
   "outputs": [
    {
     "name": "stdout",
     "output_type": "stream",
     "text": [
      "Hello Felix nice to meet you.\n"
     ]
    }
   ],
   "source": [
    "greet(\"Felix\")\n"
   ]
  },
  {
   "cell_type": "code",
   "execution_count": 14,
   "id": "0a3a565e",
   "metadata": {},
   "outputs": [],
   "source": [
    "def FTempConverter():\n",
    "    '''Tem Converter'''\n",
    "    temp = float(input(\" Enter Celcius temp: \"))\n",
    "    f = (temp*9)/5+32\n",
    "    print(f\"{temp} C is {f} F\")\n",
    "    FTempConverter()"
   ]
  },
  {
   "cell_type": "code",
   "execution_count": null,
   "id": "5921253f",
   "metadata": {},
   "outputs": [],
   "source": [
    "def tempConverter():\n",
    "    '''Tem converter'''\n",
    "    temp = float(input(\" Enter celcius temp: \")))\n",
    "    print(f\"(temp)c is {f} F\")\n",
    "FTempConverter()"
   ]
  }
 ],
 "metadata": {
  "kernelspec": {
   "display_name": "Python 3 (ipykernel)",
   "language": "python",
   "name": "python3"
  },
  "language_info": {
   "codemirror_mode": {
    "name": "ipython",
    "version": 3
   },
   "file_extension": ".py",
   "mimetype": "text/x-python",
   "name": "python",
   "nbconvert_exporter": "python",
   "pygments_lexer": "ipython3",
   "version": "3.12.1"
  }
 },
 "nbformat": 4,
 "nbformat_minor": 5
}
