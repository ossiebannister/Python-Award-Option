{
 "cells": [
  {
   "cell_type": "code",
   "execution_count": null,
   "id": "4187d59f",
   "metadata": {},
   "outputs": [],
   "source": [
    "def rockPaperScissors():\n",
    "    '''simulate rock paper scissors game'''\n",
    "    from random import randint,choice\n",
    "    from time import sleep\n",
    "    choices = ['r','p','s']\n",
    "\n",
    "    print('..... computer is making its choice .........')\n",
    "    getCompChoice = choice(choices)\n",
    "    sleep(2)\n",
    "    print('......computer has made its choice .....')\n",
    "    #print(getChoice)\n",
    "    userchoice = input('Enter your choice [\"r\", \"p\", \"s\"]:')\n",
    "\n",
    "    if getCompChoice ==\"r\" and userChoice ==\"p\":\n",
    "        print('...... determining winner .........')\n",
    "        sleep(2)\n",
    "        print('you win because paper beats rock')\n",
    "    elif getCompChoice ==\"p\" and userChoice == \"r\":\n",
    "         print('...... determining winner .........')\n",
    "         sleep(2)\n",
    "         print('you lose as paper beats rock')\n",
    "    elif getCompChoice ==\"p\" and userChoice == \"s\":\n",
    "        print('...... determining winner .........')\n",
    "        sleep(2)\n",
    "        print('you win because sissors beats paper')\n",
    "    elif getCompChoice ==\"s\" and userChoice == \"p\":\n",
    "        print('...... determining winner .........')\n",
    "        sleep(2)\n",
    "        print('you lose because sissors beats paper')\n",
    "    elif getCompChoice ==\"p\" and userChoice == \"p\":\n",
    "        print('...... determining winner .........')\n",
    "        sleep(2)\n",
    "        print('DRAW')\n",
    "    elif getCompChoice ==\"r\" and userChoice == \"r\":\n",
    "        print('...... determining winner .........')\n",
    "        sleep(2)\n",
    "        print('DRAW')\n",
    "    elif getCompChoice ==\"s\" and userChoice == \"s\":\n",
    "        print('...... determining winner .........')\n",
    "        sleep(2)\n",
    "        print('DRAW')\n",
    "    else:\n",
    "        print('I do not know who wins')\n",
    "\n",
    "rockPaperScissors()"
   ]
  }
 ],
 "metadata": {
  "language_info": {
   "name": "python"
  }
 },
 "nbformat": 4,
 "nbformat_minor": 5
}
