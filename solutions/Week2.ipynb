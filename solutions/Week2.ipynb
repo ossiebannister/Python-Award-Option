{
 "cells": [
  {
   "cell_type": "code",
   "execution_count": 1,
   "id": "db5372ca",
   "metadata": {},
   "outputs": [
    {
     "ename": "ValueError",
     "evalue": "could not convert string to float: ''",
     "output_type": "error",
     "traceback": [
      "\u001b[31m---------------------------------------------------------------------------\u001b[39m",
      "\u001b[31mValueError\u001b[39m                                Traceback (most recent call last)",
      "\u001b[36mCell\u001b[39m\u001b[36m \u001b[39m\u001b[32mIn[1]\u001b[39m\u001b[32m, line 15\u001b[39m\n\u001b[32m     13\u001b[39m     \u001b[38;5;28;01melse\u001b[39;00m:\n\u001b[32m     14\u001b[39m         \u001b[38;5;28mprint\u001b[39m(\u001b[33m\"\u001b[39m\u001b[33mZero\u001b[39m\u001b[33m\"\u001b[39m)\n\u001b[32m---> \u001b[39m\u001b[32m15\u001b[39m \u001b[43msimpleDecisions\u001b[49m\u001b[43m(\u001b[49m\u001b[43m)\u001b[49m\n",
      "\u001b[36mCell\u001b[39m\u001b[36m \u001b[39m\u001b[32mIn[1]\u001b[39m\u001b[32m, line 6\u001b[39m, in \u001b[36msimpleDecisions\u001b[39m\u001b[34m()\u001b[39m\n\u001b[32m      3\u001b[39m \u001b[38;5;28;01mdef\u001b[39;00m\u001b[38;5;250m \u001b[39m\u001b[34msimpleDecisions\u001b[39m():\n\u001b[32m      4\u001b[39m \u001b[38;5;250m    \u001b[39m\u001b[33;03m'''Takes a number and outputs a decision'''\u001b[39;00m\n\u001b[32m----> \u001b[39m\u001b[32m6\u001b[39m     number = \u001b[38;5;28;43mfloat\u001b[39;49m\u001b[43m(\u001b[49m\u001b[38;5;28;43minput\u001b[39;49m\u001b[43m(\u001b[49m\u001b[33;43m\"\u001b[39;49m\u001b[33;43mEnter a number: \u001b[39;49m\u001b[33;43m\"\u001b[39;49m\u001b[43m)\u001b[49m\u001b[43m)\u001b[49m\n\u001b[32m      8\u001b[39m     \u001b[38;5;66;03m# Classify the number\u001b[39;00m\n\u001b[32m      9\u001b[39m     \u001b[38;5;28;01mif\u001b[39;00m number > \u001b[32m0\u001b[39m:\n",
      "\u001b[31mValueError\u001b[39m: could not convert string to float: ''"
     ]
    }
   ],
   "source": [
    "#Challenge 1\n",
    "\n",
    "def simpleDecisions():\n",
    "    '''Takes a number and outputs a decision'''\n",
    "        \n",
    "    number = float(input(\"Enter a number: \"))\n",
    "\n",
    "    # Classify the number\n",
    "    if number > 0:\n",
    "        print(\"Positive\")\n",
    "    elif number < 0:\n",
    "        print(\"Negative\")\n",
    "    else:\n",
    "        print(\"Zero\")\n",
    "simpleDecisions()"
   ]
  },
  {
   "cell_type": "code",
   "execution_count": null,
   "id": "a1678da5",
   "metadata": {},
   "outputs": [],
   "source": [
    "def guessNumber():\n",
    "    '''Randomly chooses a number between 1 and 10'''\n",
    "    import random\n",
    "    secret_number = random.randint(1, 10)\n",
    "    while True:\n",
    "        guess = int(input(\"Enter your guess: \"))\n",
    "        \n",
    "        if guess < 1 or guess > 10: \n",
    "            print(\"Please enter a number between 1 and 10.\")\n",
    "        elif guess < secret_number:\n",
    "            print(\"Too low. Try again.\")\n",
    "        elif guess > secret_number:\n",
    "            print(\"Too high. Try again.\")\n",
    "        else:\n",
    "            print(\"Congratulations! You guessed it!\")\n",
    "          break \n",
    "guessNumber()"
   ]
  },
  {
   "cell_type": "code",
   "execution_count": 5,
   "id": "fd574f2b",
   "metadata": {},
   "outputs": [
    {
     "name": "stdout",
     "output_type": "stream",
     "text": [
      "..... computer is making its choice .........\n",
      "......computer has made its choice .....\n"
     ]
    },
    {
     "ename": "NameError",
     "evalue": "name 'userChoice' is not defined",
     "output_type": "error",
     "traceback": [
      "\u001b[31m---------------------------------------------------------------------------\u001b[39m",
      "\u001b[31mNameError\u001b[39m                                 Traceback (most recent call last)",
      "\u001b[36mCell\u001b[39m\u001b[36m \u001b[39m\u001b[32mIn[5]\u001b[39m\u001b[32m, line 45\u001b[39m\n\u001b[32m     42\u001b[39m     \u001b[38;5;28;01melse\u001b[39;00m:\n\u001b[32m     43\u001b[39m         \u001b[38;5;28mprint\u001b[39m(\u001b[33m'\u001b[39m\u001b[33mI do not know who wins\u001b[39m\u001b[33m'\u001b[39m)\n\u001b[32m---> \u001b[39m\u001b[32m45\u001b[39m \u001b[43mrockPaperScissors\u001b[49m\u001b[43m(\u001b[49m\u001b[43m)\u001b[49m\n",
      "\u001b[36mCell\u001b[39m\u001b[36m \u001b[39m\u001b[32mIn[5]\u001b[39m\u001b[32m, line 18\u001b[39m, in \u001b[36mrockPaperScissors\u001b[39m\u001b[34m()\u001b[39m\n\u001b[32m     16\u001b[39m     sleep(\u001b[32m2\u001b[39m)\n\u001b[32m     17\u001b[39m     \u001b[38;5;28mprint\u001b[39m(\u001b[33m'\u001b[39m\u001b[33myou win because paper beats rock\u001b[39m\u001b[33m'\u001b[39m)\n\u001b[32m---> \u001b[39m\u001b[32m18\u001b[39m \u001b[38;5;28;01melif\u001b[39;00m getCompChoice ==\u001b[33m\"\u001b[39m\u001b[33mp\u001b[39m\u001b[33m\"\u001b[39m \u001b[38;5;129;01mand\u001b[39;00m \u001b[43muserChoice\u001b[49m == \u001b[33m\"\u001b[39m\u001b[33mr\u001b[39m\u001b[33m\"\u001b[39m:\n\u001b[32m     19\u001b[39m      \u001b[38;5;28mprint\u001b[39m(\u001b[33m'\u001b[39m\u001b[33m...... determining winner .........\u001b[39m\u001b[33m'\u001b[39m)\n\u001b[32m     20\u001b[39m      sleep(\u001b[32m2\u001b[39m)\n",
      "\u001b[31mNameError\u001b[39m: name 'userChoice' is not defined"
     ]
    }
   ],
   "source": [
    "def rockPaperScissors():\n",
    "    '''simulate rock paper scissors game'''\n",
    "    from random import randint,choice\n",
    "    from time import sleep\n",
    "    choices = ['r','p','s']\n",
    "\n",
    "    print('..... computer is making its choice .........')\n",
    "    getCompChoice = choice(choices)\n",
    "    sleep(2)\n",
    "    print('......computer has made its choice .....')\n",
    "    #print(getChoice)\n",
    "    userchoice = input('Enter your choice [\"r\", \"p\", \"s\"]:')\n",
    "\n",
    "    if getCompChoice ==\"r\" and userChoice ==\"p\":\n",
    "        print('...... determining winner .........')\n",
    "        sleep(2)\n",
    "        print('you win because paper beats rock')\n",
    "    elif getCompChoice ==\"p\" and userChoice == \"r\":\n",
    "         print('...... determining winner .........')\n",
    "         sleep(2)\n",
    "         print('you lose as paper beats rock')\n",
    "    elif getCompChoice ==\"p\" and userChoice == \"s\":\n",
    "        print('...... determining winner .........')\n",
    "        sleep(2)\n",
    "        print('you win because sissors beats paper')\n",
    "    elif getCompChoice ==\"s\" and userChoice == \"p\":\n",
    "        print('...... determining winner .........')\n",
    "        sleep(2)\n",
    "        print('you lose because sissors beats paper')\n",
    "    elif getCompChoice ==\"p\" and userChoice == \"p\":\n",
    "        print('...... determining winner .........')\n",
    "        sleep(2)\n",
    "        print('DRAW')\n",
    "    elif getCompChoice ==\"r\" and userChoice == \"r\":\n",
    "        print('...... determining winner .........')\n",
    "        sleep(2)\n",
    "        print('DRAW')\n",
    "    elif getCompChoice ==\"s\" and userChoice == \"s\":\n",
    "        print('...... determining winner .........')\n",
    "        sleep(2)\n",
    "        print('DRAW')\n",
    "    else:\n",
    "        print('I do not know who wins')\n",
    "\n",
    "rockPaperScissors()\n",
    "\n"
   ]
  },
  {
   "cell_type": "code",
   "execution_count": null,
   "id": "a7a1df8b",
   "metadata": {},
   "outputs": [],
   "source": [
    "#Challenge 3\n",
    "def tablesGenerator():\n",
    "    togenerate = int(input('Enter a number whose table togenerate: '))\n",
    "    for i in range(12):\n",
    "        print(f'{i+1} x {togenerate} = {(i+1)*togenerate}')\n",
    "tablesGenerator()"
   ]
  },
  {
   "cell_type": "code",
   "execution_count": null,
   "id": "f9f32e75",
   "metadata": {},
   "outputs": [
    {
     "name": "stdout",
     "output_type": "stream",
     "text": [
      "8\n",
      "7\n",
      "6\n",
      "5\n",
      "4\n",
      "3\n",
      "2\n",
      "1\n",
      "0\n"
     ]
    }
   ],
   "source": [
    "def countDownTimer():\n",
    "    '''Simulates a count down timer'''\n",
    "    from time import sleep\n",
    "    counter = int(input('Enter a starting number: '))\n",
    "    while counter >= 0:\n",
    "        print(counter)\n",
    "        sleep(1)\n",
    "        counter -=1\n",
    "countDownTimer()"
   ]
  },
  {
   "cell_type": "code",
   "execution_count": null,
   "id": "2678e101",
   "metadata": {},
   "outputs": [],
   "source": [
    "def fizzBuzzLoop():\n",
    "    '''Fizz Buzz Loop'''\n",
    "    for number in range(1, 51):\n",
    "        if number % 3 == 0 and number % 5 == 0:\n",
    "            print(\"FizzBuzz\")\n",
    "        elif number % 3 == 0:\n",
    "            print(\"Fizz\")\n",
    "        elif number % 5 == 0:\n",
    "            print(\"Buzz\")\n",
    "        else:\n",
    "            print(number)\n",
    "\n",
    "fizzBuzzLoop()\n",
    "\n"
   ]
  },
  {
   "cell_type": "code",
   "execution_count": null,
   "id": "7f909992",
   "metadata": {},
   "outputs": [],
   "source": [
    "def isPrimeNumber():\n",
    "    '''determines if the enterered number is prime'''\n",
    "    number = int(input(\"Enter a number: \"))\n",
    "\n",
    "    # A prime numbers are greater than 1\n",
    "    if number > 1:\n",
    "        # Check if any number from 2 to number-1 divides evenly\n",
    "        for i in range(2, number):\n",
    "            if number % i == 0:\n",
    "                print(\"Not a prime number\")\n",
    "                break\n",
    "        else:\n",
    "            # If no number divides evenly, it's prime\n",
    "            print(\"Prime number\")\n",
    "    else:\n",
    "        print(\"Not a prime number\")"
   ]
  }
 ],
 "metadata": {
  "kernelspec": {
   "display_name": "Python 3 (ipykernel)",
   "language": "python",
   "name": "python3"
  },
  "language_info": {
   "codemirror_mode": {
    "name": "ipython",
    "version": 3
   },
   "file_extension": ".py",
   "mimetype": "text/x-python",
   "name": "python",
   "nbconvert_exporter": "python",
   "pygments_lexer": "ipython3",
   "version": "3.12.1"
  }
 },
 "nbformat": 4,
 "nbformat_minor": 5
}
